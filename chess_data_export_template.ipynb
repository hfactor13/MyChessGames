{
 "cells": [
  {
   "cell_type": "markdown",
   "metadata": {},
   "source": [
    "# The purpose of this script is to export monthly games to a CSV format"
   ]
  },
  {
   "cell_type": "code",
   "execution_count": null,
   "metadata": {},
   "outputs": [],
   "source": [
    "from chessdotcom import get_player_game_archives, get_player_games_by_month, Client # Chess.com API library\n",
    "from pprint import pprint # Displays the JSON in a nicer more readable format\n",
    "import pandas as pd # DataFrame Library"
   ]
  },
  {
   "cell_type": "code",
   "execution_count": null,
   "metadata": {},
   "outputs": [],
   "source": [
    "# This is what provides access to the chess.com API. You need this to be able to access the API.\n",
    "Client.request_config[\"headers\"][\"User-Agent\"] = (\n",
    "   \"My Game Analysis. \"\n",
    "   \"Contact me at example@gmail.com\" # replace with your email (not necessary but important if you happen to hit your scrape rate limit)\n",
    ")"
   ]
  },
  {
   "cell_type": "code",
   "execution_count": null,
   "metadata": {},
   "outputs": [],
   "source": [
    "game_archives = get_player_game_archives(\"my_username\") # replace with your username or another public chess.com username to analyze someone else's games\n",
    "game_archives.json[\"archives\"] # Looking at the archives let's us know what year's and month's we have played"
   ]
  },
  {
   "cell_type": "markdown",
   "metadata": {},
   "source": [
    "### The following two cells below are a demo of how to extract JSON metadata from a particular month and convert it into a DataFrame."
   ]
  },
  {
   "cell_type": "code",
   "execution_count": null,
   "metadata": {},
   "outputs": [],
   "source": [
    "december_games = get_player_games_by_month(\"my_username\", year = 2023, month = 12) # gets player games by month\n",
    "pprint(december_games.json[\"games\"][0]) # Raw JSON data for the month of December 2023 for the first entry in the list"
   ]
  },
  {
   "cell_type": "code",
   "execution_count": null,
   "metadata": {},
   "outputs": [],
   "source": [
    "december_df = pd.json_normalize(december_games.json[\"games\"])\n",
    "december_df.head() # First 5 rows of the dataframe"
   ]
  },
  {
   "cell_type": "code",
   "execution_count": null,
   "metadata": {},
   "outputs": [],
   "source": [
    "def get_monthly_games(your_username, game_year, game_month):\n",
    "    \"\"\"This function will export your monthly games to a dataframe from JSON format.\n",
    "\n",
    "    Args:\n",
    "        your_username (str): your account username on chess.com or someone else's if you want to analyze someone else's games\n",
    "        game_year (int): the year\n",
    "        game_month (int): the month\n",
    "\n",
    "    Returns:\n",
    "        pandas.DataFrame : Returns a dataframe of the normalized JSON data.\n",
    "    \"\"\"\n",
    "    games = get_player_games_by_month(username = your_username, year = game_year, month = game_month)\n",
    "    game_df = pd.json_normalize(games.json[\"games\"])\n",
    "    return game_df"
   ]
  },
  {
   "cell_type": "code",
   "execution_count": null,
   "metadata": {},
   "outputs": [],
   "source": [
    "games_list_2023 = [get_monthly_games(\"my_username\", 2023, m) for m in range(1, 13)] # Gets all the games in 2023 (replace with the appropriate year, the range may have to be adjusted if the month hasn't occurred within the year yet)\n",
    "games_df_2023 = pd.concat(games_list_2023, ignore_index = True) # concatenates all the dataframes for each month together\n",
    "games_df_2023.to_csv(\"./data/chess_games_2023.csv\") # exports the combined dataframe to CSV format"
   ]
  }
 ],
 "metadata": {
  "kernelspec": {
   "display_name": "chess",
   "language": "python",
   "name": "python3"
  },
  "language_info": {
   "codemirror_mode": {
    "name": "ipython",
    "version": 3
   },
   "file_extension": ".py",
   "mimetype": "text/x-python",
   "name": "python",
   "nbconvert_exporter": "python",
   "pygments_lexer": "ipython3",
   "version": "3.10.13"
  }
 },
 "nbformat": 4,
 "nbformat_minor": 2
}
