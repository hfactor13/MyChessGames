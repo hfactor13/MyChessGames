{
 "cells": [
  {
   "cell_type": "markdown",
   "metadata": {},
   "source": [
    "# Analyzing Chess Games Using the Chess.com API in Python"
   ]
  },
  {
   "cell_type": "markdown",
   "metadata": {},
   "source": [
    "## The purpose of this script is to export monthly games to a CSV format"
   ]
  },
  {
   "cell_type": "code",
   "execution_count": null,
   "metadata": {},
   "outputs": [],
   "source": [
    "# Chess.com API library\n",
    "from chessdotcom import get_player_game_archives, get_player_games_by_month, Client\n",
    "\n",
    "# Path Library\n",
    "from pathlib import Path\n",
    "\n",
    "# Displays the JSON in a nicer more readable format\n",
    "from pprint import pprint\n",
    "\n",
    "# DataFrame Library\n",
    "import pandas as pd\n",
    "\n",
    "# Datetime Library\n",
    "import datetime as dt"
   ]
  },
  {
   "cell_type": "code",
   "execution_count": null,
   "metadata": {},
   "outputs": [],
   "source": [
    "# This is what provides access to the chess.com API. You need this to be able to access the API.\n",
    "Client.request_config[\"headers\"][\"User-Agent\"] = (\n",
    "   \"My Game Analysis. \"\n",
    "\n",
    "   # Replace with your email (not necessary but important if you happen to hit your scrape rate limit)\n",
    "   \"Contact me at example@gmail.com\"\n",
    ")"
   ]
  },
  {
   "cell_type": "code",
   "execution_count": null,
   "metadata": {},
   "outputs": [],
   "source": [
    "# Replace with your username or another public chess.com username to analyze someone else's games\n",
    "game_archives = get_player_game_archives(\"my_username\")\n",
    "\n",
    "# Looking at the archives let's us know what year's and month's we have played\n",
    "game_archives.json[\"archives\"]"
   ]
  },
  {
   "cell_type": "markdown",
   "metadata": {},
   "source": [
    "### The following two cells below are a demo of how to extract JSON metadata from a particular month and convert it into a DataFrame."
   ]
  },
  {
   "cell_type": "code",
   "execution_count": null,
   "metadata": {},
   "outputs": [],
   "source": [
    "# Gets player games by month\n",
    "december_games = get_player_games_by_month(\"my_username\", year = 2023, month = 12)\n",
    "\n",
    "# Raw JSON data for the month of December 2023 for the first entry in the list\n",
    "pprint(december_games.json[\"games\"][0])"
   ]
  },
  {
   "cell_type": "code",
   "execution_count": null,
   "metadata": {},
   "outputs": [],
   "source": [
    "december_df = pd.json_normalize(december_games.json[\"games\"])\n",
    "\n",
    "# First 5 rows of the dataframe\n",
    "december_df.head()"
   ]
  },
  {
   "cell_type": "code",
   "execution_count": null,
   "metadata": {},
   "outputs": [],
   "source": [
    "def get_monthly_games(your_username, game_year, game_month):\n",
    "    \"\"\"This function will export your monthly games to a dataframe from JSON format.\n",
    "\n",
    "    Args:\n",
    "        your_username (str): your account username on chess.com or someone else's if you want to analyze someone else's games\n",
    "        game_year (int): the year\n",
    "        game_month (int): the month\n",
    "\n",
    "    Returns:\n",
    "        pandas.DataFrame : Returns a dataframe of the normalized JSON data.\n",
    "    \"\"\"\n",
    "    games = get_player_games_by_month(username = your_username, year = game_year, month = game_month)\n",
    "    game_df = pd.json_normalize(games.json[\"games\"])\n",
    "    return game_df"
   ]
  },
  {
   "cell_type": "code",
   "execution_count": null,
   "metadata": {},
   "outputs": [],
   "source": [
    "def save_games(username, game_year_interval):\n",
    "    \"\"\" Saves games based on game year interval\n",
    "\n",
    "    Args:\n",
    "        username (str): your username\n",
    "        game_year_interval (tuple/list): game years to get games from\n",
    "    \"\"\"\n",
    "    data_dir = Path.cwd() / \"data\" # the path where the data will be stored\n",
    "    if not data_dir.exists():\n",
    "        data_dir.mkdir(parents = True, exist_ok = True)\n",
    "    games_list = []\n",
    "    for game_year in range(*game_year_interval):\n",
    "        for game_month in range(1, 13):\n",
    "            if dt.date(year = game_year, month = game_month, day = 1) < dt.date.today():\n",
    "                games_list.append(get_monthly_games(username,game_year,game_month))\n",
    "    \n",
    "    games_df = pd.concat(games_list)\n",
    "    games_df.to_csv(data_dir / \"chess_games.csv\", index = False)"
   ]
  },
  {
   "cell_type": "code",
   "execution_count": null,
   "metadata": {},
   "outputs": [],
   "source": [
    "save_games(\"your_username\", [2023, dt.date.today().year])"
   ]
  }
 ],
 "metadata": {
  "kernelspec": {
   "display_name": "chess",
   "language": "python",
   "name": "python3"
  },
  "language_info": {
   "codemirror_mode": {
    "name": "ipython",
    "version": 3
   },
   "file_extension": ".py",
   "mimetype": "text/x-python",
   "name": "python",
   "nbconvert_exporter": "python",
   "pygments_lexer": "ipython3",
   "version": "3.10.13"
  }
 },
 "nbformat": 4,
 "nbformat_minor": 2
}
