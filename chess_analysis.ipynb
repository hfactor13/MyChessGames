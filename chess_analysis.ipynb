{
 "cells": [
  {
   "cell_type": "code",
   "execution_count": 1,
   "metadata": {},
   "outputs": [],
   "source": [
    "import pandas as pd # DataFrame library\n",
    "import re"
   ]
  },
  {
   "cell_type": "code",
   "execution_count": 2,
   "metadata": {},
   "outputs": [],
   "source": [
    "chess_games_2023 = pd.read_csv(\"./data/chess_games_2023.csv\") # loads the 2023 data\n",
    "chess_games_2024 = pd.read_csv(\"./data/chess_games_2024.csv\") # loads the 2024 data\n",
    "chess_games = pd.concat([chess_games_2023, chess_games_2024]) # combines both years of data"
   ]
  },
  {
   "cell_type": "code",
   "execution_count": 3,
   "metadata": {},
   "outputs": [
    {
     "name": "stdout",
     "output_type": "stream",
     "text": [
      "<class 'pandas.core.frame.DataFrame'>\n",
      "Index: 671 entries, 0 to 175\n",
      "Data columns (total 25 columns):\n",
      " #   Column            Non-Null Count  Dtype  \n",
      "---  ------            --------------  -----  \n",
      " 0   Unnamed: 0        671 non-null    int64  \n",
      " 1   url               671 non-null    object \n",
      " 2   pgn               671 non-null    object \n",
      " 3   time_control      671 non-null    object \n",
      " 4   end_time          671 non-null    int64  \n",
      " 5   rated             671 non-null    bool   \n",
      " 6   tcn               671 non-null    object \n",
      " 7   uuid              671 non-null    object \n",
      " 8   initial_setup     671 non-null    object \n",
      " 9   fen               671 non-null    object \n",
      " 10  time_class        671 non-null    object \n",
      " 11  rules             671 non-null    object \n",
      " 12  white.rating      671 non-null    int64  \n",
      " 13  white.result      671 non-null    object \n",
      " 14  white.@id         671 non-null    object \n",
      " 15  white.username    671 non-null    object \n",
      " 16  white.uuid        671 non-null    object \n",
      " 17  black.rating      671 non-null    int64  \n",
      " 18  black.result      671 non-null    object \n",
      " 19  black.@id         671 non-null    object \n",
      " 20  black.username    671 non-null    object \n",
      " 21  black.uuid        671 non-null    object \n",
      " 22  start_time        31 non-null     float64\n",
      " 23  accuracies.white  168 non-null    float64\n",
      " 24  accuracies.black  168 non-null    float64\n",
      "dtypes: bool(1), float64(3), int64(4), object(17)\n",
      "memory usage: 131.7+ KB\n"
     ]
    }
   ],
   "source": [
    "chess_games.info() # Gives us an overview of the combined dataframe"
   ]
  },
  {
   "cell_type": "code",
   "execution_count": 4,
   "metadata": {},
   "outputs": [
    {
     "data": {
      "text/plain": [
       "(495, 25)"
      ]
     },
     "execution_count": 4,
     "metadata": {},
     "output_type": "execute_result"
    }
   ],
   "source": [
    "chess_games_2023.shape # the number of rows and columns for the 2023 games"
   ]
  },
  {
   "cell_type": "code",
   "execution_count": 5,
   "metadata": {},
   "outputs": [
    {
     "data": {
      "text/plain": [
       "(176, 25)"
      ]
     },
     "execution_count": 5,
     "metadata": {},
     "output_type": "execute_result"
    }
   ],
   "source": [
    "chess_games_2024.shape # the number of rows and columns for the 2024 games"
   ]
  },
  {
   "cell_type": "code",
   "execution_count": 6,
   "metadata": {},
   "outputs": [],
   "source": [
    "assert chess_games_2023.shape[0] + chess_games_2024.shape[0] == chess_games.shape[0] # Tests to make sure that the 2023 and 2024 dataframes add up (if successful there shouldn't be an output)"
   ]
  },
  {
   "cell_type": "code",
   "execution_count": 7,
   "metadata": {},
   "outputs": [
    {
     "data": {
      "text/plain": [
       "Index(['Unnamed: 0', 'url', 'pgn', 'time_control', 'end_time', 'rated', 'tcn',\n",
       "       'uuid', 'initial_setup', 'fen', 'time_class', 'rules', 'white.rating',\n",
       "       'white.result', 'white.@id', 'white.username', 'white.uuid',\n",
       "       'black.rating', 'black.result', 'black.@id', 'black.username',\n",
       "       'black.uuid', 'start_time', 'accuracies.white', 'accuracies.black'],\n",
       "      dtype='object')"
      ]
     },
     "execution_count": 7,
     "metadata": {},
     "output_type": "execute_result"
    }
   ],
   "source": [
    "chess_games.columns # the columns currently in the dataframe"
   ]
  },
  {
   "cell_type": "code",
   "execution_count": 8,
   "metadata": {},
   "outputs": [],
   "source": [
    "columns_to_drop = [\"Unnamed: 0\", \"url\", \"rated\", \"tcn\", \"uuid\", \"initial_setup\", \n",
    "                   \"fen\", \"rules\", \"white.@id\", \"white.uuid\", \"black.@id\", \"black.uuid\"]\n",
    "chess_games.drop(columns = columns_to_drop, inplace = True)"
   ]
  },
  {
   "cell_type": "code",
   "execution_count": 9,
   "metadata": {},
   "outputs": [
    {
     "data": {
      "text/plain": [
       "array(['blitz', 'bullet', 'daily', 'rapid'], dtype=object)"
      ]
     },
     "execution_count": 9,
     "metadata": {},
     "output_type": "execute_result"
    }
   ],
   "source": [
    "chess_games[\"time_class\"].unique() # types of games that were played"
   ]
  },
  {
   "cell_type": "code",
   "execution_count": 29,
   "metadata": {},
   "outputs": [],
   "source": [
    "# Writing out PGN data to a file (this will be helpful to extract missing information that wasn't already available in the API)\n",
    "pgn_data = chess_games[\"pgn\"]\n",
    "with open(\"./data/pgn_data.pgn\", \"w\") as p:\n",
    "    p.writelines(pgn_data + \"\\n\")"
   ]
  },
  {
   "cell_type": "code",
   "execution_count": 5,
   "metadata": {},
   "outputs": [
    {
     "data": {
      "text/plain": [
       "['[Event \"Live Chess\"]\\n',\n",
       " '[Site \"Chess.com\"]\\n',\n",
       " '[Date \"2023.01.18\"]\\n',\n",
       " '[Round \"-\"]\\n',\n",
       " '[White \"hfactor13\"]\\n',\n",
       " '[Black \"MrEvi10verlord\"]\\n',\n",
       " '[Result \"0-1\"]\\n',\n",
       " '[CurrentPosition \"r6k/ppp4p/2n1r3/8/1nPp4/1P3p2/P1q5/RK4R1 w - -\"]\\n',\n",
       " '[Timezone \"UTC\"]\\n',\n",
       " '[ECO \"A01\"]\\n',\n",
       " '[ECOUrl \"https://www.chess.com/openings/Nimzowitsch-Larsen-Attack-Modern-Variation\"]\\n',\n",
       " '[UTCDate \"2023.01.18\"]\\n',\n",
       " '[UTCTime \"02:03:52\"]\\n',\n",
       " '[WhiteElo \"660\"]\\n',\n",
       " '[BlackElo \"795\"]\\n',\n",
       " '[TimeControl \"180\"]\\n',\n",
       " '[Termination \"MrEvi10verlord won by checkmate\"]\\n',\n",
       " '[StartTime \"02:03:52\"]\\n',\n",
       " '[EndDate \"2023.01.18\"]\\n',\n",
       " '[EndTime \"02:08:39\"]\\n',\n",
       " '[Link \"https://www.chess.com/game/live/67746611751\"]\\n',\n",
       " '\\n',\n",
       " '1. b3 {[%clk 0:02:55.3]} 1... e5 {[%clk 0:02:59.8]} 2. Nf3 {[%clk 0:02:50.5]} 2... Nc6 {[%clk 0:02:58]} 3. g3 {[%clk 0:02:48.6]} 3... d5 {[%clk 0:02:57.8]} 4. c4 {[%clk 0:02:42.1]} 4... Bc5 {[%clk 0:02:54.4]} 5. Bb2 {[%clk 0:02:35.1]} 5... f6 {[%clk 0:02:46.2]} 6. h4 {[%clk 0:02:27.3]} 6... Bg4 {[%clk 0:02:44.5]} 7. Bh3 {[%clk 0:02:21]} 7... Bxf3 {[%clk 0:02:42.9]} 8. exf3 {[%clk 0:02:18.6]} 8... Nge7 {[%clk 0:02:40]} 9. f4 {[%clk 0:02:16.8]} 9... e4 {[%clk 0:02:37.1]} 10. Nc3 {[%clk 0:02:09.7]} 10... Bd4 {[%clk 0:02:34.6]} 11. O-O {[%clk 0:01:55.4]} 11... Bxc3 {[%clk 0:02:27.8]} 12. Bxc3 {[%clk 0:01:53.4]} 12... O-O {[%clk 0:02:26]} 13. Be6+ {[%clk 0:01:46.3]} 13... Kh8 {[%clk 0:02:22.1]} 14. Qh5 {[%clk 0:01:36.9]} 14... g6 {[%clk 0:02:11.8]} 15. Qh6 {[%clk 0:01:25.8]} 15... Nf5 {[%clk 0:02:03.3]} 16. Bxf6+ {[%clk 0:01:18.8]} 16... Rxf6 {[%clk 0:01:59.6]} 17. g4 {[%clk 0:01:11.1]} 17... Nxh6 {[%clk 0:01:57.3]} 18. f5 {[%clk 0:01:07.1]} 18... Nxg4 {[%clk 0:01:54.9]} 19. f3 {[%clk 0:01:02.6]} 19... Nge5 {[%clk 0:01:50.7]} 20. fxg6 {[%clk 0:00:53.5]} 20... Rxg6+ {[%clk 0:01:47.2]} 21. Kf2 {[%clk 0:00:40.8]} 21... Rxe6 {[%clk 0:01:46.7]} 22. Ke1 {[%clk 0:00:37.1]} 22... Qxh4+ {[%clk 0:01:46]} 23. Ke2 {[%clk 0:00:34.6]} 23... Nd3 {[%clk 0:01:45.2]} 24. Rg1 {[%clk 0:00:33.5]} 24... Qf2+ {[%clk 0:01:41.8]} 25. Kd1 {[%clk 0:00:26.5]} 25... exf3 {[%clk 0:01:38.1]} 26. Kc2 {[%clk 0:00:20.7]} 26... Ndb4+ {[%clk 0:01:35.3]} 27. Kc3 {[%clk 0:00:19.4]} 27... d4+ {[%clk 0:01:24.7]} 28. Kb2 {[%clk 0:00:13]} 28... Qxd2+ {[%clk 0:01:22.6]} 29. Kb1 {[%clk 0:00:07.4]} 29... Qc2# {[%clk 0:01:20.2]} 0-1\\n',\n",
       " '\\n']"
      ]
     },
     "execution_count": 5,
     "metadata": {},
     "output_type": "execute_result"
    }
   ],
   "source": [
    "# Reading in the data from the newly created PGN file to extract information (i.e. the start and end times and the dates)\n",
    "with open(\"./data/pgn_data.pgn\", \"r\") as p:\n",
    "    pgn_text = p.readlines()\n",
    "pgn_text[:24]"
   ]
  },
  {
   "cell_type": "code",
   "execution_count": 20,
   "metadata": {},
   "outputs": [],
   "source": [
    "# Creates separate dataframes for each type of game played\n",
    "blitz_games = chess_games[chess_games[\"time_class\"] == \"blitz\"]\n",
    "bullet_games = chess_games[chess_games[\"time_class\"] == \"bullet\"]\n",
    "daily_games = chess_games[chess_games[\"time_class\"] == \"daily\"]\n",
    "rapid_games = chess_games[chess_games[\"time_class\"] == \"rapid\"]"
   ]
  }
 ],
 "metadata": {
  "kernelspec": {
   "display_name": "chess",
   "language": "python",
   "name": "python3"
  },
  "language_info": {
   "codemirror_mode": {
    "name": "ipython",
    "version": 3
   },
   "file_extension": ".py",
   "mimetype": "text/x-python",
   "name": "python",
   "nbconvert_exporter": "python",
   "pygments_lexer": "ipython3",
   "version": "3.10.13"
  }
 },
 "nbformat": 4,
 "nbformat_minor": 2
}
