{
 "cells": [
  {
   "cell_type": "code",
   "execution_count": 7,
   "metadata": {},
   "outputs": [],
   "source": [
    "import pandas as pd # DataFrame library"
   ]
  },
  {
   "cell_type": "code",
   "execution_count": 8,
   "metadata": {},
   "outputs": [],
   "source": [
    "chess_games_2023 = pd.read_csv(\"./data/chess_games_2023.csv\")\n",
    "chess_games_2024 = pd.read_csv(\"./data/chess_games_2024.csv\")"
   ]
  },
  {
   "cell_type": "code",
   "execution_count": 9,
   "metadata": {},
   "outputs": [
    {
     "name": "stdout",
     "output_type": "stream",
     "text": [
      "<class 'pandas.core.frame.DataFrame'>\n",
      "RangeIndex: 495 entries, 0 to 494\n",
      "Data columns (total 25 columns):\n",
      " #   Column            Non-Null Count  Dtype  \n",
      "---  ------            --------------  -----  \n",
      " 0   Unnamed: 0        495 non-null    int64  \n",
      " 1   url               495 non-null    object \n",
      " 2   pgn               495 non-null    object \n",
      " 3   time_control      495 non-null    object \n",
      " 4   end_time          495 non-null    int64  \n",
      " 5   rated             495 non-null    bool   \n",
      " 6   tcn               495 non-null    object \n",
      " 7   uuid              495 non-null    object \n",
      " 8   initial_setup     495 non-null    object \n",
      " 9   fen               495 non-null    object \n",
      " 10  time_class        495 non-null    object \n",
      " 11  rules             495 non-null    object \n",
      " 12  white.rating      495 non-null    int64  \n",
      " 13  white.result      495 non-null    object \n",
      " 14  white.@id         495 non-null    object \n",
      " 15  white.username    495 non-null    object \n",
      " 16  white.uuid        495 non-null    object \n",
      " 17  black.rating      495 non-null    int64  \n",
      " 18  black.result      495 non-null    object \n",
      " 19  black.@id         495 non-null    object \n",
      " 20  black.username    495 non-null    object \n",
      " 21  black.uuid        495 non-null    object \n",
      " 22  start_time        15 non-null     float64\n",
      " 23  accuracies.white  118 non-null    float64\n",
      " 24  accuracies.black  118 non-null    float64\n",
      "dtypes: bool(1), float64(3), int64(4), object(17)\n",
      "memory usage: 93.4+ KB\n"
     ]
    }
   ],
   "source": [
    "chess_games_2023.info()"
   ]
  },
  {
   "cell_type": "code",
   "execution_count": 10,
   "metadata": {},
   "outputs": [
    {
     "name": "stdout",
     "output_type": "stream",
     "text": [
      "<class 'pandas.core.frame.DataFrame'>\n",
      "RangeIndex: 176 entries, 0 to 175\n",
      "Data columns (total 25 columns):\n",
      " #   Column            Non-Null Count  Dtype  \n",
      "---  ------            --------------  -----  \n",
      " 0   Unnamed: 0        176 non-null    int64  \n",
      " 1   url               176 non-null    object \n",
      " 2   pgn               176 non-null    object \n",
      " 3   time_control      176 non-null    object \n",
      " 4   end_time          176 non-null    int64  \n",
      " 5   rated             176 non-null    bool   \n",
      " 6   tcn               176 non-null    object \n",
      " 7   uuid              176 non-null    object \n",
      " 8   initial_setup     176 non-null    object \n",
      " 9   fen               176 non-null    object \n",
      " 10  time_class        176 non-null    object \n",
      " 11  rules             176 non-null    object \n",
      " 12  accuracies.white  50 non-null     float64\n",
      " 13  accuracies.black  50 non-null     float64\n",
      " 14  white.rating      176 non-null    int64  \n",
      " 15  white.result      176 non-null    object \n",
      " 16  white.@id         176 non-null    object \n",
      " 17  white.username    176 non-null    object \n",
      " 18  white.uuid        176 non-null    object \n",
      " 19  black.rating      176 non-null    int64  \n",
      " 20  black.result      176 non-null    object \n",
      " 21  black.@id         176 non-null    object \n",
      " 22  black.username    176 non-null    object \n",
      " 23  black.uuid        176 non-null    object \n",
      " 24  start_time        16 non-null     float64\n",
      "dtypes: bool(1), float64(3), int64(4), object(17)\n",
      "memory usage: 33.3+ KB\n"
     ]
    }
   ],
   "source": [
    "chess_games_2024.info()"
   ]
  },
  {
   "cell_type": "code",
   "execution_count": 11,
   "metadata": {},
   "outputs": [
    {
     "data": {
      "text/plain": [
       "(495, 25)"
      ]
     },
     "execution_count": 11,
     "metadata": {},
     "output_type": "execute_result"
    }
   ],
   "source": [
    "chess_games_2023.shape"
   ]
  },
  {
   "cell_type": "code",
   "execution_count": 12,
   "metadata": {},
   "outputs": [
    {
     "data": {
      "text/plain": [
       "(176, 25)"
      ]
     },
     "execution_count": 12,
     "metadata": {},
     "output_type": "execute_result"
    }
   ],
   "source": [
    "chess_games_2024.shape"
   ]
  }
 ],
 "metadata": {
  "kernelspec": {
   "display_name": "chess",
   "language": "python",
   "name": "python3"
  },
  "language_info": {
   "codemirror_mode": {
    "name": "ipython",
    "version": 3
   },
   "file_extension": ".py",
   "mimetype": "text/x-python",
   "name": "python",
   "nbconvert_exporter": "python",
   "pygments_lexer": "ipython3",
   "version": "3.10.13"
  }
 },
 "nbformat": 4,
 "nbformat_minor": 2
}
