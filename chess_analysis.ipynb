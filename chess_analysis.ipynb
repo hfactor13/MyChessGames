{
 "cells": [
  {
   "cell_type": "markdown",
   "metadata": {
    "slideshow": {
     "slide_type": "slide"
    }
   },
   "source": [
    "# Exploratory Data Analysis of Elo Rating Under Different Time Controls and Chess Opening Outcomes"
   ]
  },
  {
   "cell_type": "code",
   "execution_count": 1,
   "metadata": {
    "slideshow": {
     "slide_type": "slide"
    }
   },
   "outputs": [],
   "source": [
    "# DataFrame library\n",
    "import pandas as pd\n",
    "\n",
    "# Plotting library\n",
    "import matplotlib.pyplot as plt\n",
    "\n",
    "# Statistics plotting library based on matplotlib\n",
    "import seaborn as sns\n",
    "\n",
    "# Array library\n",
    "import numpy as np\n",
    "\n",
    "# Regular expression library for text parsing and extraction\n",
    "import re\n",
    "\n",
    "# Datetime library\n",
    "import datetime as dt\n",
    "\n",
    "# Library imports for displaying top chess openings (board visualization)\n",
    "import io\n",
    "import chess\n",
    "import chess.pgn\n",
    "from IPython.display import display, SVG\n",
    "import chess.svg\n",
    "import ipywidgets as widgets"
   ]
  },
  {
   "cell_type": "code",
   "execution_count": 2,
   "metadata": {
    "slideshow": {
     "slide_type": "subslide"
    }
   },
   "outputs": [],
   "source": [
    "chess_games = pd.read_csv(\"./data/chess_games.csv\")"
   ]
  },
  {
   "cell_type": "code",
   "execution_count": 3,
   "metadata": {
    "slideshow": {
     "slide_type": "subslide"
    }
   },
   "outputs": [
    {
     "name": "stdout",
     "output_type": "stream",
     "text": [
      "<class 'pandas.core.frame.DataFrame'>\n",
      "RangeIndex: 2592 entries, 0 to 2591\n",
      "Data columns (total 26 columns):\n",
      " #   Column            Non-Null Count  Dtype  \n",
      "---  ------            --------------  -----  \n",
      " 0   url               2592 non-null   object \n",
      " 1   pgn               2592 non-null   object \n",
      " 2   time_control      2592 non-null   object \n",
      " 3   end_time          2592 non-null   int64  \n",
      " 4   rated             2592 non-null   bool   \n",
      " 5   tcn               2592 non-null   object \n",
      " 6   uuid              2592 non-null   object \n",
      " 7   initial_setup     2592 non-null   object \n",
      " 8   fen               2592 non-null   object \n",
      " 9   time_class        2592 non-null   object \n",
      " 10  rules             2592 non-null   object \n",
      " 11  eco               2591 non-null   object \n",
      " 12  white.rating      2592 non-null   int64  \n",
      " 13  white.result      2592 non-null   object \n",
      " 14  white.@id         2592 non-null   object \n",
      " 15  white.username    2592 non-null   object \n",
      " 16  white.uuid        2592 non-null   object \n",
      " 17  black.rating      2592 non-null   int64  \n",
      " 18  black.result      2592 non-null   object \n",
      " 19  black.@id         2592 non-null   object \n",
      " 20  black.username    2592 non-null   object \n",
      " 21  black.uuid        2592 non-null   object \n",
      " 22  start_time        68 non-null     float64\n",
      " 23  accuracies.white  1477 non-null   float64\n",
      " 24  accuracies.black  1477 non-null   float64\n",
      " 25  tournament        8 non-null      object \n",
      "dtypes: bool(1), float64(3), int64(3), object(19)\n",
      "memory usage: 508.9+ KB\n"
     ]
    }
   ],
   "source": [
    "# Gives us an overview of the combined dataframe\n",
    "chess_games.info()"
   ]
  },
  {
   "cell_type": "code",
   "execution_count": 4,
   "metadata": {
    "slideshow": {
     "slide_type": "fragment"
    }
   },
   "outputs": [],
   "source": [
    "chess_games[\"start_time\"] = pd.to_datetime(chess_games[\"start_time\"], unit = \"s\")\n",
    "chess_games[\"end_time\"] = pd.to_datetime(chess_games[\"end_time\"], unit = \"s\")"
   ]
  },
  {
   "cell_type": "code",
   "execution_count": 5,
   "metadata": {
    "slideshow": {
     "slide_type": "subslide"
    }
   },
   "outputs": [
    {
     "data": {
      "application/vnd.microsoft.datawrangler.viewer.v0+json": {
       "columns": [
        {
         "name": "index",
         "rawType": "object",
         "type": "string"
        },
        {
         "name": "end_time",
         "rawType": "object",
         "type": "unknown"
        },
        {
         "name": "white.rating",
         "rawType": "float64",
         "type": "float"
        },
        {
         "name": "black.rating",
         "rawType": "float64",
         "type": "float"
        },
        {
         "name": "start_time",
         "rawType": "object",
         "type": "unknown"
        },
        {
         "name": "accuracies.white",
         "rawType": "float64",
         "type": "float"
        },
        {
         "name": "accuracies.black",
         "rawType": "float64",
         "type": "float"
        }
       ],
       "ref": "c4f1f281-048e-4429-b884-f512e1673d48",
       "rows": [
        [
         "count",
         "2592",
         "2592.0",
         "2592.0",
         "68",
         "1477.0",
         "1477.0"
        ],
        [
         "mean",
         "2024-08-12 18:48:42.732252928",
         "619.241512345679",
         "618.8159722222222",
         "2024-05-12 06:33:41.397058816",
         "70.7488490182803",
         "69.53143534190927"
        ],
        [
         "min",
         "2023-01-18 02:08:39",
         "100.0",
         "100.0",
         "2023-01-19 01:15:56",
         "26.88",
         "18.41"
        ],
        [
         "25%",
         "2024-03-05 22:30:15",
         "422.0",
         "427.0",
         "2023-12-31 15:36:18",
         "63.33",
         "62.52"
        ],
        [
         "50%",
         "2024-08-29 02:05:29",
         "626.0",
         "626.5",
         "2024-04-16 20:13:45.500000",
         "71.35",
         "70.51"
        ],
        [
         "75%",
         "2025-02-27 18:51:00.249999872",
         "822.25",
         "821.0",
         "2024-09-03 00:29:16.500000",
         "79.37",
         "77.71"
        ],
        [
         "max",
         "2025-06-19 04:38:37",
         "1509.0",
         "1501.0",
         "2025-05-27 19:02:43",
         "100.0",
         "100.0"
        ],
        [
         "std",
         null,
         "231.59115249016307",
         "231.0697716584243",
         null,
         "12.30830929379147",
         "12.495977492535484"
        ]
       ],
       "shape": {
        "columns": 6,
        "rows": 8
       }
      },
      "text/html": [
       "<div>\n",
       "<style scoped>\n",
       "    .dataframe tbody tr th:only-of-type {\n",
       "        vertical-align: middle;\n",
       "    }\n",
       "\n",
       "    .dataframe tbody tr th {\n",
       "        vertical-align: top;\n",
       "    }\n",
       "\n",
       "    .dataframe thead th {\n",
       "        text-align: right;\n",
       "    }\n",
       "</style>\n",
       "<table border=\"1\" class=\"dataframe\">\n",
       "  <thead>\n",
       "    <tr style=\"text-align: right;\">\n",
       "      <th></th>\n",
       "      <th>end_time</th>\n",
       "      <th>white.rating</th>\n",
       "      <th>black.rating</th>\n",
       "      <th>start_time</th>\n",
       "      <th>accuracies.white</th>\n",
       "      <th>accuracies.black</th>\n",
       "    </tr>\n",
       "  </thead>\n",
       "  <tbody>\n",
       "    <tr>\n",
       "      <th>count</th>\n",
       "      <td>2592</td>\n",
       "      <td>2592.000000</td>\n",
       "      <td>2592.000000</td>\n",
       "      <td>68</td>\n",
       "      <td>1477.000000</td>\n",
       "      <td>1477.000000</td>\n",
       "    </tr>\n",
       "    <tr>\n",
       "      <th>mean</th>\n",
       "      <td>2024-08-12 18:48:42.732252928</td>\n",
       "      <td>619.241512</td>\n",
       "      <td>618.815972</td>\n",
       "      <td>2024-05-12 06:33:41.397058816</td>\n",
       "      <td>70.748849</td>\n",
       "      <td>69.531435</td>\n",
       "    </tr>\n",
       "    <tr>\n",
       "      <th>min</th>\n",
       "      <td>2023-01-18 02:08:39</td>\n",
       "      <td>100.000000</td>\n",
       "      <td>100.000000</td>\n",
       "      <td>2023-01-19 01:15:56</td>\n",
       "      <td>26.880000</td>\n",
       "      <td>18.410000</td>\n",
       "    </tr>\n",
       "    <tr>\n",
       "      <th>25%</th>\n",
       "      <td>2024-03-05 22:30:15</td>\n",
       "      <td>422.000000</td>\n",
       "      <td>427.000000</td>\n",
       "      <td>2023-12-31 15:36:18</td>\n",
       "      <td>63.330000</td>\n",
       "      <td>62.520000</td>\n",
       "    </tr>\n",
       "    <tr>\n",
       "      <th>50%</th>\n",
       "      <td>2024-08-29 02:05:29</td>\n",
       "      <td>626.000000</td>\n",
       "      <td>626.500000</td>\n",
       "      <td>2024-04-16 20:13:45.500000</td>\n",
       "      <td>71.350000</td>\n",
       "      <td>70.510000</td>\n",
       "    </tr>\n",
       "    <tr>\n",
       "      <th>75%</th>\n",
       "      <td>2025-02-27 18:51:00.249999872</td>\n",
       "      <td>822.250000</td>\n",
       "      <td>821.000000</td>\n",
       "      <td>2024-09-03 00:29:16.500000</td>\n",
       "      <td>79.370000</td>\n",
       "      <td>77.710000</td>\n",
       "    </tr>\n",
       "    <tr>\n",
       "      <th>max</th>\n",
       "      <td>2025-06-19 04:38:37</td>\n",
       "      <td>1509.000000</td>\n",
       "      <td>1501.000000</td>\n",
       "      <td>2025-05-27 19:02:43</td>\n",
       "      <td>100.000000</td>\n",
       "      <td>100.000000</td>\n",
       "    </tr>\n",
       "    <tr>\n",
       "      <th>std</th>\n",
       "      <td>NaN</td>\n",
       "      <td>231.591152</td>\n",
       "      <td>231.069772</td>\n",
       "      <td>NaN</td>\n",
       "      <td>12.308309</td>\n",
       "      <td>12.495977</td>\n",
       "    </tr>\n",
       "  </tbody>\n",
       "</table>\n",
       "</div>"
      ],
      "text/plain": [
       "                            end_time  white.rating  black.rating  \\\n",
       "count                           2592   2592.000000   2592.000000   \n",
       "mean   2024-08-12 18:48:42.732252928    619.241512    618.815972   \n",
       "min              2023-01-18 02:08:39    100.000000    100.000000   \n",
       "25%              2024-03-05 22:30:15    422.000000    427.000000   \n",
       "50%              2024-08-29 02:05:29    626.000000    626.500000   \n",
       "75%    2025-02-27 18:51:00.249999872    822.250000    821.000000   \n",
       "max              2025-06-19 04:38:37   1509.000000   1501.000000   \n",
       "std                              NaN    231.591152    231.069772   \n",
       "\n",
       "                          start_time  accuracies.white  accuracies.black  \n",
       "count                             68       1477.000000       1477.000000  \n",
       "mean   2024-05-12 06:33:41.397058816         70.748849         69.531435  \n",
       "min              2023-01-19 01:15:56         26.880000         18.410000  \n",
       "25%              2023-12-31 15:36:18         63.330000         62.520000  \n",
       "50%       2024-04-16 20:13:45.500000         71.350000         70.510000  \n",
       "75%       2024-09-03 00:29:16.500000         79.370000         77.710000  \n",
       "max              2025-05-27 19:02:43        100.000000        100.000000  \n",
       "std                              NaN         12.308309         12.495977  "
      ]
     },
     "execution_count": 5,
     "metadata": {},
     "output_type": "execute_result"
    }
   ],
   "source": [
    "chess_games.describe()"
   ]
  },
  {
   "cell_type": "code",
   "execution_count": 6,
   "metadata": {
    "slideshow": {
     "slide_type": "fragment"
    }
   },
   "outputs": [
    {
     "data": {
      "text/plain": [
       "Index(['url', 'pgn', 'time_control', 'end_time', 'rated', 'tcn', 'uuid',\n",
       "       'initial_setup', 'fen', 'time_class', 'rules', 'eco', 'white.rating',\n",
       "       'white.result', 'white.@id', 'white.username', 'white.uuid',\n",
       "       'black.rating', 'black.result', 'black.@id', 'black.username',\n",
       "       'black.uuid', 'start_time', 'accuracies.white', 'accuracies.black',\n",
       "       'tournament'],\n",
       "      dtype='object')"
      ]
     },
     "execution_count": 6,
     "metadata": {},
     "output_type": "execute_result"
    }
   ],
   "source": [
    "# The columns currently in the dataframe\n",
    "chess_games.columns"
   ]
  },
  {
   "cell_type": "code",
   "execution_count": 7,
   "metadata": {
    "slideshow": {
     "slide_type": "slide"
    }
   },
   "outputs": [],
   "source": [
    "columns_to_drop = [\"time_control\", \"tournament\", \"rated\", \"tcn\", \"uuid\", \"initial_setup\", \"accuracies.white\", \"accuracies.black\", \n",
    "                   \"fen\", \"white.@id\", \"white.uuid\", \"black.@id\", \"black.uuid\"]\n",
    "chess_games.drop(columns = columns_to_drop, inplace = True)"
   ]
  },
  {
   "cell_type": "code",
   "execution_count": 8,
   "metadata": {
    "slideshow": {
     "slide_type": "fragment"
    }
   },
   "outputs": [
    {
     "data": {
      "text/plain": [
       "array(['blitz', 'bullet', 'daily', 'rapid'], dtype=object)"
      ]
     },
     "execution_count": 8,
     "metadata": {},
     "output_type": "execute_result"
    }
   ],
   "source": [
    "# Types of games that were played\n",
    "chess_games[\"time_class\"].unique()"
   ]
  },
  {
   "cell_type": "code",
   "execution_count": 9,
   "metadata": {
    "slideshow": {
     "slide_type": "fragment"
    }
   },
   "outputs": [
    {
     "name": "stdout",
     "output_type": "stream",
     "text": [
      "['abandoned' 'agreed' 'checkmated' 'insufficient' 'repetition' 'resigned'\n",
      " 'stalemate' 'timeout' 'timevsinsufficient' 'win']\n"
     ]
    }
   ],
   "source": [
    "# Unique results for white and black (it will be the same results regardless of what column gets picked)\n",
    "print(np.sort(chess_games[\"white.result\"].unique()))"
   ]
  },
  {
   "cell_type": "code",
   "execution_count": 10,
   "metadata": {
    "slideshow": {
     "slide_type": "slide"
    }
   },
   "outputs": [],
   "source": [
    "def game_result(df):\n",
    "    \"\"\"Determines whether a game was won, lost, or drawn and puts it in a list. \n",
    "    The intention is to create another column that can list the result per game regardless of what color was played.\n",
    "\n",
    "    Args:\n",
    "        df (pandas.DataFrame): the data that contains all the chess games\n",
    "\n",
    "    Returns:\n",
    "        list : Returns a list of outcomes that are one of the three states (Won, Lost, or Draw)\n",
    "    \"\"\"\n",
    "    results = []\n",
    "    for white_result, white_username, black_result, black_username in zip(df[\"white.result\"], df[\"white.username\"], df[\"black.result\"], df[\"black.username\"]):\n",
    "        if (white_result == \"win\" and white_username == \"hfactor13\") or (black_result == \"win\" and black_username == \"hfactor13\"):\n",
    "            results.append(\"Won\")\n",
    "        elif white_result == black_result:\n",
    "            results.append(\"Draw\")\n",
    "        else:\n",
    "            results.append(\"Lost\")\n",
    "    return results"
   ]
  },
  {
   "cell_type": "code",
   "execution_count": 11,
   "metadata": {
    "slideshow": {
     "slide_type": "fragment"
    }
   },
   "outputs": [],
   "source": [
    "chess_games[\"game_result\"] = game_result(chess_games) "
   ]
  },
  {
   "cell_type": "code",
   "execution_count": 12,
   "metadata": {
    "slideshow": {
     "slide_type": "slide"
    }
   },
   "outputs": [],
   "source": [
    "def my_rating(df):\n",
    "    \"\"\"This aggregates rating for all time regardless of the colored piece played.\n",
    "\n",
    "    Args:\n",
    "        df (pandas.DataFrame): the data that contains all the chess games\n",
    "\n",
    "    Returns:\n",
    "        list: Returns a list of ratings\n",
    "    \"\"\"\n",
    "    rating = []\n",
    "    for white_rating, black_rating, white_username, black_username in zip(df[\"white.rating\"], df[\"black.rating\"], df[\"white.username\"], df[\"black.username\"]):\n",
    "        if white_username == \"hfactor13\":\n",
    "            rating.append(white_rating)\n",
    "        elif black_username == \"hfactor13\":\n",
    "            rating.append(black_rating)\n",
    "    return rating"
   ]
  },
  {
   "cell_type": "code",
   "execution_count": 13,
   "metadata": {
    "slideshow": {
     "slide_type": "fragment"
    }
   },
   "outputs": [],
   "source": [
    "chess_games[\"my_rating\"] = my_rating(chess_games)"
   ]
  },
  {
   "cell_type": "code",
   "execution_count": 14,
   "metadata": {
    "slideshow": {
     "slide_type": "slide"
    }
   },
   "outputs": [],
   "source": [
    "# Writes out PGN data to a file (this will be helpful to extract missing information that wasn't already available in the API)\n",
    "pgn_data = chess_games[\"pgn\"]\n",
    "with open(\"./data/pgn_data.pgn\", \"w\") as p:\n",
    "    p.writelines(pgn_data + \"\\n\")"
   ]
  },
  {
   "cell_type": "code",
   "execution_count": 15,
   "metadata": {
    "slideshow": {
     "slide_type": "subslide"
    }
   },
   "outputs": [
    {
     "data": {
      "text/plain": [
       "['[Event \"Live Chess\"]\\n',\n",
       " '[Site \"Chess.com\"]\\n',\n",
       " '[Date \"2023.01.18\"]\\n',\n",
       " '[Round \"-\"]\\n',\n",
       " '[White \"hfactor13\"]\\n',\n",
       " '[Black \"MrEvi10verlord\"]\\n',\n",
       " '[Result \"0-1\"]\\n',\n",
       " '[CurrentPosition \"r6k/ppp4p/2n1r3/8/1nPp4/1P3p2/P1q5/RK4R1 w - -\"]\\n',\n",
       " '[Timezone \"UTC\"]\\n',\n",
       " '[ECO \"A01\"]\\n',\n",
       " '[ECOUrl \"https://www.chess.com/openings/Nimzowitsch-Larsen-Attack-Modern-Variation\"]\\n',\n",
       " '[UTCDate \"2023.01.18\"]\\n',\n",
       " '[UTCTime \"02:03:52\"]\\n',\n",
       " '[WhiteElo \"660\"]\\n',\n",
       " '[BlackElo \"795\"]\\n',\n",
       " '[TimeControl \"180\"]\\n',\n",
       " '[Termination \"MrEvi10verlord won by checkmate\"]\\n',\n",
       " '[StartTime \"02:03:52\"]\\n',\n",
       " '[EndDate \"2023.01.18\"]\\n',\n",
       " '[EndTime \"02:08:39\"]\\n',\n",
       " '[Link \"https://www.chess.com/game/live/67746611751\"]\\n',\n",
       " '\\n',\n",
       " '1. b3 {[%clk 0:02:55.3]} 1... e5 {[%clk 0:02:59.8]} 2. Nf3 {[%clk 0:02:50.5]} 2... Nc6 {[%clk 0:02:58]} 3. g3 {[%clk 0:02:48.6]} 3... d5 {[%clk 0:02:57.8]} 4. c4 {[%clk 0:02:42.1]} 4... Bc5 {[%clk 0:02:54.4]} 5. Bb2 {[%clk 0:02:35.1]} 5... f6 {[%clk 0:02:46.2]} 6. h4 {[%clk 0:02:27.3]} 6... Bg4 {[%clk 0:02:44.5]} 7. Bh3 {[%clk 0:02:21]} 7... Bxf3 {[%clk 0:02:42.9]} 8. exf3 {[%clk 0:02:18.6]} 8... Nge7 {[%clk 0:02:40]} 9. f4 {[%clk 0:02:16.8]} 9... e4 {[%clk 0:02:37.1]} 10. Nc3 {[%clk 0:02:09.7]} 10... Bd4 {[%clk 0:02:34.6]} 11. O-O {[%clk 0:01:55.4]} 11... Bxc3 {[%clk 0:02:27.8]} 12. Bxc3 {[%clk 0:01:53.4]} 12... O-O {[%clk 0:02:26]} 13. Be6+ {[%clk 0:01:46.3]} 13... Kh8 {[%clk 0:02:22.1]} 14. Qh5 {[%clk 0:01:36.9]} 14... g6 {[%clk 0:02:11.8]} 15. Qh6 {[%clk 0:01:25.8]} 15... Nf5 {[%clk 0:02:03.3]} 16. Bxf6+ {[%clk 0:01:18.8]} 16... Rxf6 {[%clk 0:01:59.6]} 17. g4 {[%clk 0:01:11.1]} 17... Nxh6 {[%clk 0:01:57.3]} 18. f5 {[%clk 0:01:07.1]} 18... Nxg4 {[%clk 0:01:54.9]} 19. f3 {[%clk 0:01:02.6]} 19... Nge5 {[%clk 0:01:50.7]} 20. fxg6 {[%clk 0:00:53.5]} 20... Rxg6+ {[%clk 0:01:47.2]} 21. Kf2 {[%clk 0:00:40.8]} 21... Rxe6 {[%clk 0:01:46.7]} 22. Ke1 {[%clk 0:00:37.1]} 22... Qxh4+ {[%clk 0:01:46]} 23. Ke2 {[%clk 0:00:34.6]} 23... Nd3 {[%clk 0:01:45.2]} 24. Rg1 {[%clk 0:00:33.5]} 24... Qf2+ {[%clk 0:01:41.8]} 25. Kd1 {[%clk 0:00:26.5]} 25... exf3 {[%clk 0:01:38.1]} 26. Kc2 {[%clk 0:00:20.7]} 26... Ndb4+ {[%clk 0:01:35.3]} 27. Kc3 {[%clk 0:00:19.4]} 27... d4+ {[%clk 0:01:24.7]} 28. Kb2 {[%clk 0:00:13]} 28... Qxd2+ {[%clk 0:01:22.6]} 29. Kb1 {[%clk 0:00:07.4]} 29... Qc2# {[%clk 0:01:20.2]} 0-1\\n',\n",
       " '\\n']"
      ]
     },
     "execution_count": 15,
     "metadata": {},
     "output_type": "execute_result"
    }
   ],
   "source": [
    "# Reads in the data from the newly created PGN file to extract information (i.e. the start and end times and the dates)\n",
    "with open(\"./data/pgn_data.pgn\", \"r\") as p:\n",
    "    pgn_text = p.readlines()\n",
    "pgn_text[:24]"
   ]
  },
  {
   "cell_type": "code",
   "execution_count": 16,
   "metadata": {
    "slideshow": {
     "slide_type": "subslide"
    }
   },
   "outputs": [],
   "source": [
    "# Parses text for dates, times, and moves\n",
    "moves = []\n",
    "start_times_info = []\n",
    "start_dates_info = []\n",
    "\n",
    "for text in pgn_text:\n",
    "    if re.match(\"\\[StartTime\", text):\n",
    "        start_times_info.append(text)\n",
    "    elif re.match(\"\\[Date\", text):\n",
    "        start_dates_info.append(text)\n",
    "    elif re.match(\"1\\.\", text):\n",
    "        moves.append(text)"
   ]
  },
  {
   "cell_type": "code",
   "execution_count": 17,
   "metadata": {
    "slideshow": {
     "slide_type": "fragment"
    }
   },
   "outputs": [
    {
     "data": {
      "text/plain": [
       "['clk 0:00:07.4]} 29... Qc2# {[%clk 0:01:20.2]} 0-1\\n',\n",
       " ' {[%clk 0:00:21.2]} 21. g3 {[%clk 0:00:45.3]} 1-0\\n',\n",
       " '[%clk 0:00:01.1]} 25... h6 {[%clk 0:00:09.9]} 0-1\\n',\n",
       " '[%clk 0:00:55.3]} 32. Rxh4 {[%clk 0:02:39.7]} 1-0\\n',\n",
       " '%clk 0:00:01.4]} 26... Qb7 {[%clk 0:00:04.6]} 0-1\\n',\n",
       " 'clk 0:00:12.9]} 17... Qxb4 {[%clk 0:00:01.8]} 0-1\\n',\n",
       " '3 {[%clk 0:02:17]} 37. Rf4 {[%clk 0:03:18.1]} 1-0\\n',\n",
       " '[%clk 0:04:05.6]} 39. Qe6# {[%clk 0:04:14.9]} 1-0\\n',\n",
       " '%clk 0:00:00.4]} 40... Rg6 {[%clk 0:04:13.8]} 0-1\\n',\n",
       " '[%clk 0:00:05.3]} 21. Nxd4 {[%clk 0:00:13.9]} 1-0\\n']"
      ]
     },
     "execution_count": 17,
     "metadata": {},
     "output_type": "execute_result"
    }
   ],
   "source": [
    "# Looking at the last 50 characters to determine the total number of moves in the game\n",
    "last_moves = [m[-50:] for m in moves]\n",
    "last_moves[:10]"
   ]
  },
  {
   "cell_type": "code",
   "execution_count": 18,
   "metadata": {
    "slideshow": {
     "slide_type": "subslide"
    }
   },
   "outputs": [
    {
     "data": {
      "text/plain": [
       "[29, 21, 25, 32, 26, 17, 37, 39, 40, 21]"
      ]
     },
     "execution_count": 18,
     "metadata": {},
     "output_type": "execute_result"
    }
   ],
   "source": [
    "# Reduces the string length so that it starts with '}' and end with '.'\n",
    "total_moves = [re.findall(\"\\} \\d+\\.\", l)[0] for l in last_moves]\n",
    "\n",
    "# Extracts the digits which signify the total number of moves\n",
    "total_moves = [int(re.findall(\"\\d+\", total)[0]) for total in total_moves]\n",
    "total_moves[:10]"
   ]
  },
  {
   "cell_type": "code",
   "execution_count": 19,
   "metadata": {
    "slideshow": {
     "slide_type": "fragment"
    }
   },
   "outputs": [],
   "source": [
    "start_dates_series = pd.to_datetime([re.findall(\"\\d+\\.\\d+\\.\\d+\", s)[0] for s in start_dates_info])\n",
    "start_times_series = pd.to_timedelta([re.findall(\"\\d+:\\d+:\\d+\", s)[0] for s in start_times_info])\n",
    "chess_games[\"start_time\"] = start_dates_series + start_times_series"
   ]
  },
  {
   "cell_type": "code",
   "execution_count": 20,
   "metadata": {
    "slideshow": {
     "slide_type": "slide"
    }
   },
   "outputs": [],
   "source": [
    "# Add the newly extracted information to the combined games dataframe\n",
    "chess_games[\"eco\"] = chess_games[\"eco\"].apply(lambda x: str(x)[31:])\n",
    "chess_games.rename(columns = {\"eco\": \"openings\", \"time_class\": \"time_control\"}, inplace = True)\n",
    "chess_games[\"total_moves\"] = total_moves"
   ]
  },
  {
   "cell_type": "code",
   "execution_count": 21,
   "metadata": {
    "slideshow": {
     "slide_type": "slide"
    }
   },
   "outputs": [
    {
     "data": {
      "application/vnd.microsoft.datawrangler.viewer.v0+json": {
       "columns": [
        {
         "name": "index",
         "rawType": "int64",
         "type": "integer"
        },
        {
         "name": "url",
         "rawType": "object",
         "type": "string"
        },
        {
         "name": "pgn",
         "rawType": "object",
         "type": "string"
        },
        {
         "name": "end_time",
         "rawType": "datetime64[ns]",
         "type": "datetime"
        },
        {
         "name": "time_control",
         "rawType": "object",
         "type": "string"
        },
        {
         "name": "rules",
         "rawType": "object",
         "type": "string"
        },
        {
         "name": "openings",
         "rawType": "object",
         "type": "string"
        },
        {
         "name": "white.rating",
         "rawType": "int64",
         "type": "integer"
        },
        {
         "name": "white.result",
         "rawType": "object",
         "type": "string"
        },
        {
         "name": "white.username",
         "rawType": "object",
         "type": "string"
        },
        {
         "name": "black.rating",
         "rawType": "int64",
         "type": "integer"
        },
        {
         "name": "black.result",
         "rawType": "object",
         "type": "string"
        },
        {
         "name": "black.username",
         "rawType": "object",
         "type": "string"
        },
        {
         "name": "start_time",
         "rawType": "datetime64[ns]",
         "type": "datetime"
        },
        {
         "name": "game_result",
         "rawType": "object",
         "type": "string"
        },
        {
         "name": "my_rating",
         "rawType": "int64",
         "type": "integer"
        },
        {
         "name": "total_moves",
         "rawType": "int64",
         "type": "integer"
        }
       ],
       "ref": "fb0a08ce-6317-4afe-9a96-9f913d7f3b74",
       "rows": [
        [
         "0",
         "https://www.chess.com/game/live/67746611751",
         "[Event \"Live Chess\"]\n[Site \"Chess.com\"]\n[Date \"2023.01.18\"]\n[Round \"-\"]\n[White \"hfactor13\"]\n[Black \"MrEvi10verlord\"]\n[Result \"0-1\"]\n[CurrentPosition \"r6k/ppp4p/2n1r3/8/1nPp4/1P3p2/P1q5/RK4R1 w - -\"]\n[Timezone \"UTC\"]\n[ECO \"A01\"]\n[ECOUrl \"https://www.chess.com/openings/Nimzowitsch-Larsen-Attack-Modern-Variation\"]\n[UTCDate \"2023.01.18\"]\n[UTCTime \"02:03:52\"]\n[WhiteElo \"660\"]\n[BlackElo \"795\"]\n[TimeControl \"180\"]\n[Termination \"MrEvi10verlord won by checkmate\"]\n[StartTime \"02:03:52\"]\n[EndDate \"2023.01.18\"]\n[EndTime \"02:08:39\"]\n[Link \"https://www.chess.com/game/live/67746611751\"]\n\n1. b3 {[%clk 0:02:55.3]} 1... e5 {[%clk 0:02:59.8]} 2. Nf3 {[%clk 0:02:50.5]} 2... Nc6 {[%clk 0:02:58]} 3. g3 {[%clk 0:02:48.6]} 3... d5 {[%clk 0:02:57.8]} 4. c4 {[%clk 0:02:42.1]} 4... Bc5 {[%clk 0:02:54.4]} 5. Bb2 {[%clk 0:02:35.1]} 5... f6 {[%clk 0:02:46.2]} 6. h4 {[%clk 0:02:27.3]} 6... Bg4 {[%clk 0:02:44.5]} 7. Bh3 {[%clk 0:02:21]} 7... Bxf3 {[%clk 0:02:42.9]} 8. exf3 {[%clk 0:02:18.6]} 8... Nge7 {[%clk 0:02:40]} 9. f4 {[%clk 0:02:16.8]} 9... e4 {[%clk 0:02:37.1]} 10. Nc3 {[%clk 0:02:09.7]} 10... Bd4 {[%clk 0:02:34.6]} 11. O-O {[%clk 0:01:55.4]} 11... Bxc3 {[%clk 0:02:27.8]} 12. Bxc3 {[%clk 0:01:53.4]} 12... O-O {[%clk 0:02:26]} 13. Be6+ {[%clk 0:01:46.3]} 13... Kh8 {[%clk 0:02:22.1]} 14. Qh5 {[%clk 0:01:36.9]} 14... g6 {[%clk 0:02:11.8]} 15. Qh6 {[%clk 0:01:25.8]} 15... Nf5 {[%clk 0:02:03.3]} 16. Bxf6+ {[%clk 0:01:18.8]} 16... Rxf6 {[%clk 0:01:59.6]} 17. g4 {[%clk 0:01:11.1]} 17... Nxh6 {[%clk 0:01:57.3]} 18. f5 {[%clk 0:01:07.1]} 18... Nxg4 {[%clk 0:01:54.9]} 19. f3 {[%clk 0:01:02.6]} 19... Nge5 {[%clk 0:01:50.7]} 20. fxg6 {[%clk 0:00:53.5]} 20... Rxg6+ {[%clk 0:01:47.2]} 21. Kf2 {[%clk 0:00:40.8]} 21... Rxe6 {[%clk 0:01:46.7]} 22. Ke1 {[%clk 0:00:37.1]} 22... Qxh4+ {[%clk 0:01:46]} 23. Ke2 {[%clk 0:00:34.6]} 23... Nd3 {[%clk 0:01:45.2]} 24. Rg1 {[%clk 0:00:33.5]} 24... Qf2+ {[%clk 0:01:41.8]} 25. Kd1 {[%clk 0:00:26.5]} 25... exf3 {[%clk 0:01:38.1]} 26. Kc2 {[%clk 0:00:20.7]} 26... Ndb4+ {[%clk 0:01:35.3]} 27. Kc3 {[%clk 0:00:19.4]} 27... d4+ {[%clk 0:01:24.7]} 28. Kb2 {[%clk 0:00:13]} 28... Qxd2+ {[%clk 0:01:22.6]} 29. Kb1 {[%clk 0:00:07.4]} 29... Qc2# {[%clk 0:01:20.2]} 0-1\n",
         "2023-01-18 02:08:39",
         "blitz",
         "chess",
         "Nimzowitsch-Larsen-Attack-Modern-Variation",
         "660",
         "checkmated",
         "hfactor13",
         "795",
         "win",
         "MrEvi10verlord",
         "2023-01-18 02:03:52",
         "Lost",
         "660",
         "29"
        ],
        [
         "1",
         "https://www.chess.com/game/live/67746710345",
         "[Event \"Live Chess\"]\n[Site \"Chess.com\"]\n[Date \"2023.01.18\"]\n[Round \"-\"]\n[White \"YasssQueen9\"]\n[Black \"hfactor13\"]\n[Result \"1-0\"]\n[CurrentPosition \"3rk3/pb4b1/1pp2pr1/4p2p/4P2N/P2qB1PP/1P1N1P2/3RKR2 b - -\"]\n[Timezone \"UTC\"]\n[ECO \"B06\"]\n[ECOUrl \"https://www.chess.com/openings/Modern-Defense-with-1-e4-2.d4-Bg7-3.Be3\"]\n[UTCDate \"2023.01.18\"]\n[UTCTime \"02:09:23\"]\n[WhiteElo \"618\"]\n[BlackElo \"520\"]\n[TimeControl \"180\"]\n[Termination \"YasssQueen9 won on time\"]\n[StartTime \"02:09:23\"]\n[EndDate \"2023.01.18\"]\n[EndTime \"02:14:48\"]\n[Link \"https://www.chess.com/game/live/67746710345\"]\n\n1. e4 {[%clk 0:03:00]} 1... g6 {[%clk 0:02:55.7]} 2. d4 {[%clk 0:02:56.9]} 2... Bg7 {[%clk 0:02:54.8]} 3. Be3 {[%clk 0:02:50.4]} 3... b6 {[%clk 0:02:54]} 4. Bc4 {[%clk 0:02:34.6]} 4... Nf6 {[%clk 0:02:47.2]} 5. Bd3 {[%clk 0:02:29.9]} 5... Bb7 {[%clk 0:02:45.1]} 6. Qf3 {[%clk 0:02:24.9]} 6... h5 {[%clk 0:02:26.6]} 7. Nd2 {[%clk 0:02:23.5]} 7... Nc6 {[%clk 0:02:18.5]} 8. d5 {[%clk 0:02:21.9]} 8... Nb4 {[%clk 0:02:09.7]} 9. a3 {[%clk 0:02:13.3]} 9... Nxd3+ {[%clk 0:02:03.6]} 10. cxd3 {[%clk 0:02:11.9]} 10... Ng4 {[%clk 0:01:50.7]} 11. h3 {[%clk 0:02:08.5]} 11... Ne5 {[%clk 0:01:35.6]} 12. Qe2 {[%clk 0:02:02.1]} 12... Nxd3+ {[%clk 0:01:09.5]} 13. Qxd3 {[%clk 0:02:00]} 13... c5 {[%clk 0:01:03.5]} 14. dxc6 {[%clk 0:01:56]} 14... dxc6 {[%clk 0:00:59.6]} 15. Ngf3 {[%clk 0:01:47.8]} 15... Qxd3 {[%clk 0:00:57]} 16. Rd1 {[%clk 0:01:24.8]} 16... Rd8 {[%clk 0:00:55.2]} 17. Rf1 {[%clk 0:01:07.4]} 17... f6 {[%clk 0:00:33.7]} 18. Nh4 {[%clk 0:00:53.8]} 18... e5 {[%clk 0:00:30.3]} 19. Nxg6 {[%clk 0:00:51.6]} 19... Rh6 {[%clk 0:00:24.7]} 20. Nh4 {[%clk 0:00:47.7]} 20... Rg6 {[%clk 0:00:21.2]} 21. g3 {[%clk 0:00:45.3]} 1-0\n",
         "2023-01-18 02:14:48",
         "blitz",
         "chess",
         "Modern-Defense-with-1-e4-2.d4-Bg7-3.Be3",
         "618",
         "win",
         "YasssQueen9",
         "520",
         "timeout",
         "hfactor13",
         "2023-01-18 02:09:23",
         "Lost",
         "520",
         "21"
        ],
        [
         "2",
         "https://www.chess.com/game/live/67828846779",
         "[Event \"Live Chess\"]\n[Site \"Chess.com\"]\n[Date \"2023.01.19\"]\n[Round \"-\"]\n[White \"hfactor13\"]\n[Black \"rico24432\"]\n[Result \"0-1\"]\n[CurrentPosition \"rn2k2r/pp6/7p/3P4/7K/8/P7/8 w kq -\"]\n[Timezone \"UTC\"]\n[ECO \"A01\"]\n[ECOUrl \"https://www.chess.com/openings/Nimzowitsch-Larsen-Attack-Dutch-Variation\"]\n[UTCDate \"2023.01.19\"]\n[UTCTime \"00:55:37\"]\n[WhiteElo \"398\"]\n[BlackElo \"572\"]\n[TimeControl \"60\"]\n[Termination \"rico24432 won on time\"]\n[StartTime \"00:55:37\"]\n[EndDate \"2023.01.19\"]\n[EndTime \"00:57:40\"]\n[Link \"https://www.chess.com/game/live/67828846779\"]\n\n1. b3 {[%clk 0:00:58.9]} 1... f5 {[%clk 0:00:58.9]} 2. g3 {[%clk 0:00:57.2]} 2... e5 {[%clk 0:00:57.9]} 3. c3 {[%clk 0:00:54]} 3... d5 {[%clk 0:00:56.5]} 4. Bb2 {[%clk 0:00:51.9]} 4... g5 {[%clk 0:00:54.4]} 5. Nf3 {[%clk 0:00:50.3]} 5... Bd6 {[%clk 0:00:51.7]} 6. c4 {[%clk 0:00:48.1]} 6... dxc4 {[%clk 0:00:48.9]} 7. bxc4 {[%clk 0:00:46.9]} 7... c5 {[%clk 0:00:48.4]} 8. e3 {[%clk 0:00:41.2]} 8... Nf6 {[%clk 0:00:48.3]} 9. d4 {[%clk 0:00:39.9]} 9... exd4 {[%clk 0:00:46.8]} 10. exd4 {[%clk 0:00:38.3]} 10... cxd4 {[%clk 0:00:46.7]} 11. Nxd4 {[%clk 0:00:36]} 11... Be5 {[%clk 0:00:46.3]} 12. Ne6 {[%clk 0:00:33]} 12... Qxd1+ {[%clk 0:00:43.1]} 13. Kxd1 {[%clk 0:00:31.4]} 13... Bxb2 {[%clk 0:00:42.8]} 14. Bd3 {[%clk 0:00:28.2]} 14... Bxa1 {[%clk 0:00:38.5]} 15. Bxf5 {[%clk 0:00:25.7]} 15... Ng4 {[%clk 0:00:26.1]} 16. h4 {[%clk 0:00:23.8]} 16... Nxf2+ {[%clk 0:00:24.7]} 17. Ke2 {[%clk 0:00:18.8]} 17... Nxh1 {[%clk 0:00:24.6]} 18. Nc3 {[%clk 0:00:17]} 18... Bxe6 {[%clk 0:00:23.5]} 19. Nb5 {[%clk 0:00:15.1]} 19... Bc3 {[%clk 0:00:23.4]} 20. Nxc3 {[%clk 0:00:13.5]} 20... Bxf5 {[%clk 0:00:22.5]} 21. Nd5 {[%clk 0:00:11.8]} 21... Nxg3+ {[%clk 0:00:17.6]} 22. Kf3 {[%clk 0:00:07.5]} 22... Be4+ {[%clk 0:00:13.3]} 23. Kxg3 {[%clk 0:00:05.1]} 23... Bxd5 {[%clk 0:00:12.3]} 24. cxd5 {[%clk 0:00:03.5]} 24... gxh4+ {[%clk 0:00:11.2]} 25. Kxh4 {[%clk 0:00:01.1]} 25... h6 {[%clk 0:00:09.9]} 0-1\n",
         "2023-01-19 00:57:40",
         "bullet",
         "chess",
         "Nimzowitsch-Larsen-Attack-Dutch-Variation",
         "398",
         "timeout",
         "hfactor13",
         "572",
         "win",
         "rico24432",
         "2023-01-19 00:55:37",
         "Lost",
         "398",
         "25"
        ],
        [
         "3",
         "https://www.chess.com/game/live/67828893903",
         "[Event \"Live Chess\"]\n[Site \"Chess.com\"]\n[Date \"2023.01.19\"]\n[Round \"-\"]\n[White \"YusufAwaisu\"]\n[Black \"hfactor13\"]\n[Result \"1-0\"]\n[CurrentPosition \"B1N3k1/2P5/3B4/1P6/P6R/8/2P4P/7K b - -\"]\n[Timezone \"UTC\"]\n[ECO \"A04\"]\n[ECOUrl \"https://www.chess.com/openings/Reti-Opening-Kingside-Fianchetto-Variation\"]\n[UTCDate \"2023.01.19\"]\n[UTCTime \"00:58:08\"]\n[WhiteElo \"555\"]\n[BlackElo \"437\"]\n[TimeControl \"300\"]\n[Termination \"YusufAwaisu won by resignation\"]\n[StartTime \"00:58:08\"]\n[EndDate \"2023.01.19\"]\n[EndTime \"01:05:01\"]\n[Link \"https://www.chess.com/game/live/67828893903\"]\n\n1. Nf3 {[%clk 0:05:00]} 1... g6 {[%clk 0:04:58.3]} 2. Nc3 {[%clk 0:04:59.9]} 2... Nc6 {[%clk 0:04:56.5]} 3. g3 {[%clk 0:04:59.8]} 3... Bg7 {[%clk 0:04:55]} 4. b3 {[%clk 0:04:59.7]} 4... b6 {[%clk 0:04:53.5]} 5. d4 {[%clk 0:04:59.6]} 5... d6 {[%clk 0:04:50.1]} 6. Bb2 {[%clk 0:04:58]} 6... e5 {[%clk 0:04:46.7]} 7. d5 {[%clk 0:04:51.7]} 7... f6 {[%clk 0:04:44.9]} 8. dxc6 {[%clk 0:04:49.9]} 8... d5 {[%clk 0:04:38.1]} 9. Bg2 {[%clk 0:04:43.3]} 9... Ne7 {[%clk 0:04:33.5]} 10. e4 {[%clk 0:04:38.4]} 10... a5 {[%clk 0:04:25.1]} 11. exd5 {[%clk 0:04:34.4]} 11... Bh6 {[%clk 0:04:15.8]} 12. Nb5 {[%clk 0:04:19.4]} 12... Nf5 {[%clk 0:04:12]} 13. O-O {[%clk 0:04:03.5]} 13... O-O {[%clk 0:03:59.1]} 14. a4 {[%clk 0:03:48.6]} 14... Ne3 {[%clk 0:03:33.7]} 15. fxe3 {[%clk 0:03:44.4]} 15... Bxe3+ {[%clk 0:03:31.4]} 16. Kh1 {[%clk 0:03:37.8]} 16... f5 {[%clk 0:03:12.3]} 17. Nxe5 {[%clk 0:03:33.6]} 17... Re8 {[%clk 0:02:43.9]} 18. d6 {[%clk 0:03:25.3]} 18... Rxe5 {[%clk 0:02:38.3]} 19. Bxe5 {[%clk 0:03:23.8]} 19... cxd6 {[%clk 0:02:18.1]} 20. Bxd6 {[%clk 0:03:15.8]} 20... Qf6 {[%clk 0:01:48.4]} 21. c7 {[%clk 0:03:13.3]} 21... Bd4 {[%clk 0:01:29.9]} 22. Bxa8 {[%clk 0:03:08.4]} 22... Bxa1 {[%clk 0:01:28.3]} 23. Qxa1 {[%clk 0:03:06.4]} 23... Qxa1 {[%clk 0:01:26]} 24. Rxa1 {[%clk 0:03:05.3]} 24... g5 {[%clk 0:01:24.1]} 25. Rf1 {[%clk 0:03:02.5]} 25... h6 {[%clk 0:01:14.6]} 26. Na7 {[%clk 0:02:52.6]} 26... f4 {[%clk 0:01:13.3]} 27. Nxc8 {[%clk 0:02:48.6]} 27... b5 {[%clk 0:01:04]} 28. axb5 {[%clk 0:02:44.5]} 28... a4 {[%clk 0:01:02.6]} 29. bxa4 {[%clk 0:02:43.4]} 29... h5 {[%clk 0:00:57.5]} 30. gxf4 {[%clk 0:02:41.4]} 30... gxf4 {[%clk 0:00:56.3]} 31. Rxf4 {[%clk 0:02:40.6]} 31... h4 {[%clk 0:00:55.3]} 32. Rxh4 {[%clk 0:02:39.7]} 1-0\n",
         "2023-01-19 01:05:01",
         "blitz",
         "chess",
         "Reti-Opening-Kingside-Fianchetto-Variation",
         "555",
         "win",
         "YusufAwaisu",
         "437",
         "resigned",
         "hfactor13",
         "2023-01-19 00:58:08",
         "Lost",
         "437",
         "32"
        ],
        [
         "4",
         "https://www.chess.com/game/live/67829440503",
         "[Event \"Live Chess\"]\n[Site \"Chess.com\"]\n[Date \"2023.01.19\"]\n[Round \"-\"]\n[White \"hfactor13\"]\n[Black \"DamianCapponi\"]\n[Result \"0-1\"]\n[CurrentPosition \"4k2r/1qp2ppp/p3bn2/2n5/p1PN1P2/6P1/4Q2P/5K1R w k -\"]\n[Timezone \"UTC\"]\n[ECO \"A01\"]\n[ECOUrl \"https://www.chess.com/openings/Nimzowitsch-Larsen-Attack-Classical-Variation-2.Bb2\"]\n[UTCDate \"2023.01.19\"]\n[UTCTime \"01:05:17\"]\n[WhiteElo \"348\"]\n[BlackElo \"367\"]\n[TimeControl \"300\"]\n[Termination \"DamianCapponi won on time\"]\n[StartTime \"01:05:17\"]\n[EndDate \"2023.01.19\"]\n[EndTime \"01:15:26\"]\n[Link \"https://www.chess.com/game/live/67829440503\"]\n\n1. b3 {[%clk 0:04:57.3]} 1... d5 {[%clk 0:04:54.1]} 2. Bb2 {[%clk 0:04:56]} 2... Nc6 {[%clk 0:04:53]} 3. g3 {[%clk 0:04:54.6]} 3... Nf6 {[%clk 0:04:47.6]} 4. Bg2 {[%clk 0:04:54]} 4... e6 {[%clk 0:04:37]} 5. Nc3 {[%clk 0:04:42.8]} 5... b6 {[%clk 0:04:19.4]} 6. Ba3 {[%clk 0:04:41.4]} 6... Bxa3 {[%clk 0:04:11.9]} 7. Nf3 {[%clk 0:04:27.3]} 7... d4 {[%clk 0:04:02.2]} 8. Nb5 {[%clk 0:04:17]} 8... Bb4 {[%clk 0:03:52.8]} 9. a3 {[%clk 0:03:56.5]} 9... Bc5 {[%clk 0:03:37.6]} 10. Nfxd4 {[%clk 0:03:25.3]} 10... Bxd4 {[%clk 0:03:26.3]} 11. c3 {[%clk 0:03:23.3]} 11... Be5 {[%clk 0:03:16.5]} 12. a4 {[%clk 0:02:58.7]} 12... a6 {[%clk 0:03:08]} 13. Na3 {[%clk 0:02:23.3]} 13... b5 {[%clk 0:02:47.1]} 14. c4 {[%clk 0:02:14.5]} 14... bxa4 {[%clk 0:02:42.4]} 15. b4 {[%clk 0:02:11]} 15... Bxa1 {[%clk 0:02:37]} 16. Qxa1 {[%clk 0:01:59.7]} 16... Nxb4 {[%clk 0:02:35.9]} 17. d3 {[%clk 0:01:53]} 17... Qd6 {[%clk 0:02:20.9]} 18. Bxa8 {[%clk 0:01:49.1]} 18... e5 {[%clk 0:02:01.4]} 19. Kf1 {[%clk 0:01:14]} 19... e4 {[%clk 0:01:51.2]} 20. f3 {[%clk 0:01:05.3]} 20... exd3 {[%clk 0:01:48]} 21. Qd1 {[%clk 0:00:52.7]} 21... dxe2+ {[%clk 0:01:42.4]} 22. Qxe2+ {[%clk 0:00:42.7]} 22... Be6 {[%clk 0:01:24.4]} 23. f4 {[%clk 0:00:20.9]} 23... Nd3 {[%clk 0:01:14.2]} 24. Bc6+ {[%clk 0:00:08]} 24... Qxc6 {[%clk 0:00:50.8]} 25. Nc2 {[%clk 0:00:03.3]} 25... Nc5 {[%clk 0:00:32.1]} 26. Nd4 {[%clk 0:00:01.4]} 26... Qb7 {[%clk 0:00:04.6]} 0-1\n",
         "2023-01-19 01:15:26",
         "blitz",
         "chess",
         "Nimzowitsch-Larsen-Attack-Classical-Variation-2.Bb2",
         "348",
         "timeout",
         "hfactor13",
         "367",
         "win",
         "DamianCapponi",
         "2023-01-19 01:05:17",
         "Lost",
         "348",
         "26"
        ]
       ],
       "shape": {
        "columns": 16,
        "rows": 5
       }
      },
      "text/html": [
       "<div>\n",
       "<style scoped>\n",
       "    .dataframe tbody tr th:only-of-type {\n",
       "        vertical-align: middle;\n",
       "    }\n",
       "\n",
       "    .dataframe tbody tr th {\n",
       "        vertical-align: top;\n",
       "    }\n",
       "\n",
       "    .dataframe thead th {\n",
       "        text-align: right;\n",
       "    }\n",
       "</style>\n",
       "<table border=\"1\" class=\"dataframe\">\n",
       "  <thead>\n",
       "    <tr style=\"text-align: right;\">\n",
       "      <th></th>\n",
       "      <th>url</th>\n",
       "      <th>pgn</th>\n",
       "      <th>end_time</th>\n",
       "      <th>time_control</th>\n",
       "      <th>rules</th>\n",
       "      <th>openings</th>\n",
       "      <th>white.rating</th>\n",
       "      <th>white.result</th>\n",
       "      <th>white.username</th>\n",
       "      <th>black.rating</th>\n",
       "      <th>black.result</th>\n",
       "      <th>black.username</th>\n",
       "      <th>start_time</th>\n",
       "      <th>game_result</th>\n",
       "      <th>my_rating</th>\n",
       "      <th>total_moves</th>\n",
       "    </tr>\n",
       "  </thead>\n",
       "  <tbody>\n",
       "    <tr>\n",
       "      <th>0</th>\n",
       "      <td>https://www.chess.com/game/live/67746611751</td>\n",
       "      <td>[Event \"Live Chess\"]\\n[Site \"Chess.com\"]\\n[Dat...</td>\n",
       "      <td>2023-01-18 02:08:39</td>\n",
       "      <td>blitz</td>\n",
       "      <td>chess</td>\n",
       "      <td>Nimzowitsch-Larsen-Attack-Modern-Variation</td>\n",
       "      <td>660</td>\n",
       "      <td>checkmated</td>\n",
       "      <td>hfactor13</td>\n",
       "      <td>795</td>\n",
       "      <td>win</td>\n",
       "      <td>MrEvi10verlord</td>\n",
       "      <td>2023-01-18 02:03:52</td>\n",
       "      <td>Lost</td>\n",
       "      <td>660</td>\n",
       "      <td>29</td>\n",
       "    </tr>\n",
       "    <tr>\n",
       "      <th>1</th>\n",
       "      <td>https://www.chess.com/game/live/67746710345</td>\n",
       "      <td>[Event \"Live Chess\"]\\n[Site \"Chess.com\"]\\n[Dat...</td>\n",
       "      <td>2023-01-18 02:14:48</td>\n",
       "      <td>blitz</td>\n",
       "      <td>chess</td>\n",
       "      <td>Modern-Defense-with-1-e4-2.d4-Bg7-3.Be3</td>\n",
       "      <td>618</td>\n",
       "      <td>win</td>\n",
       "      <td>YasssQueen9</td>\n",
       "      <td>520</td>\n",
       "      <td>timeout</td>\n",
       "      <td>hfactor13</td>\n",
       "      <td>2023-01-18 02:09:23</td>\n",
       "      <td>Lost</td>\n",
       "      <td>520</td>\n",
       "      <td>21</td>\n",
       "    </tr>\n",
       "    <tr>\n",
       "      <th>2</th>\n",
       "      <td>https://www.chess.com/game/live/67828846779</td>\n",
       "      <td>[Event \"Live Chess\"]\\n[Site \"Chess.com\"]\\n[Dat...</td>\n",
       "      <td>2023-01-19 00:57:40</td>\n",
       "      <td>bullet</td>\n",
       "      <td>chess</td>\n",
       "      <td>Nimzowitsch-Larsen-Attack-Dutch-Variation</td>\n",
       "      <td>398</td>\n",
       "      <td>timeout</td>\n",
       "      <td>hfactor13</td>\n",
       "      <td>572</td>\n",
       "      <td>win</td>\n",
       "      <td>rico24432</td>\n",
       "      <td>2023-01-19 00:55:37</td>\n",
       "      <td>Lost</td>\n",
       "      <td>398</td>\n",
       "      <td>25</td>\n",
       "    </tr>\n",
       "    <tr>\n",
       "      <th>3</th>\n",
       "      <td>https://www.chess.com/game/live/67828893903</td>\n",
       "      <td>[Event \"Live Chess\"]\\n[Site \"Chess.com\"]\\n[Dat...</td>\n",
       "      <td>2023-01-19 01:05:01</td>\n",
       "      <td>blitz</td>\n",
       "      <td>chess</td>\n",
       "      <td>Reti-Opening-Kingside-Fianchetto-Variation</td>\n",
       "      <td>555</td>\n",
       "      <td>win</td>\n",
       "      <td>YusufAwaisu</td>\n",
       "      <td>437</td>\n",
       "      <td>resigned</td>\n",
       "      <td>hfactor13</td>\n",
       "      <td>2023-01-19 00:58:08</td>\n",
       "      <td>Lost</td>\n",
       "      <td>437</td>\n",
       "      <td>32</td>\n",
       "    </tr>\n",
       "    <tr>\n",
       "      <th>4</th>\n",
       "      <td>https://www.chess.com/game/live/67829440503</td>\n",
       "      <td>[Event \"Live Chess\"]\\n[Site \"Chess.com\"]\\n[Dat...</td>\n",
       "      <td>2023-01-19 01:15:26</td>\n",
       "      <td>blitz</td>\n",
       "      <td>chess</td>\n",
       "      <td>Nimzowitsch-Larsen-Attack-Classical-Variation-...</td>\n",
       "      <td>348</td>\n",
       "      <td>timeout</td>\n",
       "      <td>hfactor13</td>\n",
       "      <td>367</td>\n",
       "      <td>win</td>\n",
       "      <td>DamianCapponi</td>\n",
       "      <td>2023-01-19 01:05:17</td>\n",
       "      <td>Lost</td>\n",
       "      <td>348</td>\n",
       "      <td>26</td>\n",
       "    </tr>\n",
       "  </tbody>\n",
       "</table>\n",
       "</div>"
      ],
      "text/plain": [
       "                                           url  \\\n",
       "0  https://www.chess.com/game/live/67746611751   \n",
       "1  https://www.chess.com/game/live/67746710345   \n",
       "2  https://www.chess.com/game/live/67828846779   \n",
       "3  https://www.chess.com/game/live/67828893903   \n",
       "4  https://www.chess.com/game/live/67829440503   \n",
       "\n",
       "                                                 pgn            end_time  \\\n",
       "0  [Event \"Live Chess\"]\\n[Site \"Chess.com\"]\\n[Dat... 2023-01-18 02:08:39   \n",
       "1  [Event \"Live Chess\"]\\n[Site \"Chess.com\"]\\n[Dat... 2023-01-18 02:14:48   \n",
       "2  [Event \"Live Chess\"]\\n[Site \"Chess.com\"]\\n[Dat... 2023-01-19 00:57:40   \n",
       "3  [Event \"Live Chess\"]\\n[Site \"Chess.com\"]\\n[Dat... 2023-01-19 01:05:01   \n",
       "4  [Event \"Live Chess\"]\\n[Site \"Chess.com\"]\\n[Dat... 2023-01-19 01:15:26   \n",
       "\n",
       "  time_control  rules                                           openings  \\\n",
       "0        blitz  chess         Nimzowitsch-Larsen-Attack-Modern-Variation   \n",
       "1        blitz  chess            Modern-Defense-with-1-e4-2.d4-Bg7-3.Be3   \n",
       "2       bullet  chess          Nimzowitsch-Larsen-Attack-Dutch-Variation   \n",
       "3        blitz  chess         Reti-Opening-Kingside-Fianchetto-Variation   \n",
       "4        blitz  chess  Nimzowitsch-Larsen-Attack-Classical-Variation-...   \n",
       "\n",
       "   white.rating white.result white.username  black.rating black.result  \\\n",
       "0           660   checkmated      hfactor13           795          win   \n",
       "1           618          win    YasssQueen9           520      timeout   \n",
       "2           398      timeout      hfactor13           572          win   \n",
       "3           555          win    YusufAwaisu           437     resigned   \n",
       "4           348      timeout      hfactor13           367          win   \n",
       "\n",
       "   black.username          start_time game_result  my_rating  total_moves  \n",
       "0  MrEvi10verlord 2023-01-18 02:03:52        Lost        660           29  \n",
       "1       hfactor13 2023-01-18 02:09:23        Lost        520           21  \n",
       "2       rico24432 2023-01-19 00:55:37        Lost        398           25  \n",
       "3       hfactor13 2023-01-19 00:58:08        Lost        437           32  \n",
       "4   DamianCapponi 2023-01-19 01:05:17        Lost        348           26  "
      ]
     },
     "execution_count": 21,
     "metadata": {},
     "output_type": "execute_result"
    }
   ],
   "source": [
    "# Filters out games where there were possibly interruptions or just disconnected entirely\n",
    "filtered_idx = (chess_games[\"total_moves\"] > 5) & (chess_games[\"white.result\"] != \"abandoned\") & (chess_games[\"black.result\"] != \"abandoned\")\n",
    "chess_games = chess_games[filtered_idx]\n",
    "chess_games.head()"
   ]
  },
  {
   "cell_type": "code",
   "execution_count": 22,
   "metadata": {
    "slideshow": {
     "slide_type": "subslide"
    }
   },
   "outputs": [
    {
     "data": {
      "text/plain": [
       "array(['checkmated', 'win', 'timeout', 'resigned', 'stalemate',\n",
       "       'timevsinsufficient', 'insufficient', 'repetition', 'agreed'],\n",
       "      dtype=object)"
      ]
     },
     "execution_count": 22,
     "metadata": {},
     "output_type": "execute_result"
    }
   ],
   "source": [
    "# Notice that there's no result called \"abandoned\" anymore\n",
    "chess_games[\"white.result\"].unique()"
   ]
  },
  {
   "cell_type": "code",
   "execution_count": 23,
   "metadata": {
    "slideshow": {
     "slide_type": "fragment"
    }
   },
   "outputs": [
    {
     "data": {
      "text/plain": [
       "844"
      ]
     },
     "execution_count": 23,
     "metadata": {},
     "output_type": "execute_result"
    }
   ],
   "source": [
    "# Number of unique openings\n",
    "chess_games[\"openings\"].nunique()"
   ]
  },
  {
   "cell_type": "code",
   "execution_count": 24,
   "metadata": {
    "slideshow": {
     "slide_type": "fragment"
    }
   },
   "outputs": [
    {
     "data": {
      "text/plain": [
       "np.int64(55)"
      ]
     },
     "execution_count": 24,
     "metadata": {},
     "output_type": "execute_result"
    }
   ],
   "source": [
    "# Maximum number of openings played for all time controls\n",
    "max_num_openings_played = chess_games.groupby(\"openings\").size().max()\n",
    "max_num_openings_played"
   ]
  },
  {
   "cell_type": "code",
   "execution_count": 25,
   "metadata": {
    "slideshow": {
     "slide_type": "slide"
    }
   },
   "outputs": [],
   "source": [
    "def plot_game_result(df):\n",
    "    \"\"\"Creates a dropdown menu for selecting time control and plots the number of games won, lost, or drawn.\n",
    "\n",
    "    Args:\n",
    "        df (pandas.DataFrame): the data that contains the chess games\n",
    "    \"\"\"\n",
    "    time_controls = df[\"time_control\"].unique()\n",
    "\n",
    "    def plot_for_selected_time_control(selected_time_control):\n",
    "        filtered_df = df[df[\"time_control\"] == selected_time_control]\n",
    "        print(filtered_df.groupby(\"game_result\").size())\n",
    "        ax = filtered_df.groupby(\"game_result\").size().plot(kind=\"bar\", title=f\"{selected_time_control} Time Control\")\n",
    "        ax.set_yticks([int(ticks) for ticks in ax.get_yticks()])\n",
    "        ax.set_ylabel(\"Number of Games Played\")\n",
    "        plt.show()\n",
    "\n",
    "    widgets.interact(plot_for_selected_time_control, selected_time_control=widgets.Dropdown(options=time_controls, description='Time Control:'))"
   ]
  },
  {
   "cell_type": "code",
   "execution_count": 26,
   "metadata": {
    "slideshow": {
     "slide_type": "subslide"
    }
   },
   "outputs": [
    {
     "data": {
      "application/vnd.jupyter.widget-view+json": {
       "model_id": "c565d4788c5a4dcca167ddffb23145d4",
       "version_major": 2,
       "version_minor": 0
      },
      "text/plain": [
       "interactive(children=(Dropdown(description='Time Control:', options=('blitz', 'bullet', 'daily', 'rapid'), val…"
      ]
     },
     "metadata": {},
     "output_type": "display_data"
    }
   ],
   "source": [
    "plot_game_result(chess_games)"
   ]
  },
  {
   "cell_type": "code",
   "execution_count": 27,
   "metadata": {
    "slideshow": {
     "slide_type": "slide"
    }
   },
   "outputs": [],
   "source": [
    "def plot_rating_over_time(df):\n",
    "    \"\"\"Creates a dropdown menu for selecting time control and plots rating over time for the selected time control.\"\"\"\n",
    "    time_controls = df[\"time_control\"].unique()\n",
    "\n",
    "    def plot_for_selected_time_control(selected_time_control):\n",
    "        (df[df[\"time_control\"] == selected_time_control].resample(rule = \"D\", on = \"start_time\")\n",
    "        .mean(numeric_only = True)[\"my_rating\"].interpolate(method = \"time\")\n",
    "        .plot(title = f\"Rating Over Time ({selected_time_control})\", grid = True))\n",
    "        plt.xlabel(\"Date\")\n",
    "        plt.ylabel(\"Rating\")\n",
    "        plt.show()\n",
    "\n",
    "    widgets.interact(plot_for_selected_time_control, selected_time_control=widgets.Dropdown(options=time_controls, description='Time Control:'))\n"
   ]
  },
  {
   "cell_type": "code",
   "execution_count": 28,
   "metadata": {
    "slideshow": {
     "slide_type": "subslide"
    }
   },
   "outputs": [
    {
     "data": {
      "application/vnd.jupyter.widget-view+json": {
       "model_id": "d930439a80084e09a947b66c76e1c7b0",
       "version_major": 2,
       "version_minor": 0
      },
      "text/plain": [
       "interactive(children=(Dropdown(description='Time Control:', options=('blitz', 'bullet', 'daily', 'rapid'), val…"
      ]
     },
     "metadata": {},
     "output_type": "display_data"
    }
   ],
   "source": [
    "plot_rating_over_time(chess_games)"
   ]
  },
  {
   "cell_type": "code",
   "execution_count": 29,
   "metadata": {
    "slideshow": {
     "slide_type": "slide"
    }
   },
   "outputs": [],
   "source": [
    "def plot_openings_by_time_control(df):\n",
    "    \"\"\"Creates a dropdown menu for selecting time control and plots the top 10 openings for the selected time control.\n",
    "\n",
    "    Args:\n",
    "        df (pandas.DataFrame): DataFrame containing chess games\n",
    "    \"\"\"\n",
    "    time_controls = df[\"time_control\"].unique()\n",
    "\n",
    "    def plot_for_selected_time_control(selected_time_control):\n",
    "        openings = df[df[\"time_control\"] == selected_time_control].groupby(\"openings\").size().sort_values(ascending=False)\n",
    "        openings[:10].plot(kind=\"barh\", title=f\"Top 10 Openings Played For {selected_time_control.title()} Time Control\", xlabel=\"Number of Games Played\")\n",
    "        plt.xticks([i for i in range(openings.max() + 1)])\n",
    "        plt.show()\n",
    "\n",
    "    widgets.interact(plot_for_selected_time_control, selected_time_control=widgets.Dropdown(options=time_controls, description='Time Control:'))"
   ]
  },
  {
   "cell_type": "code",
   "execution_count": 30,
   "metadata": {
    "slideshow": {
     "slide_type": "subslide"
    }
   },
   "outputs": [
    {
     "data": {
      "application/vnd.jupyter.widget-view+json": {
       "model_id": "33e2f4d58ade4152bf952a3eba03bc7a",
       "version_major": 2,
       "version_minor": 0
      },
      "text/plain": [
       "interactive(children=(Dropdown(description='Time Control:', options=('blitz', 'bullet', 'daily', 'rapid'), val…"
      ]
     },
     "metadata": {},
     "output_type": "display_data"
    }
   ],
   "source": [
    "# Top 10 openings played for daily time control\n",
    "plot_openings_by_time_control(chess_games)"
   ]
  },
  {
   "cell_type": "code",
   "execution_count": 31,
   "metadata": {
    "slideshow": {
     "slide_type": "slide"
    }
   },
   "outputs": [],
   "source": [
    "def plot_openings_matrix(df, n = 10):\n",
    "    \"\"\"Creates a dropdown menu for selecting time control and plots the top N openings by game outcome.\n",
    "\n",
    "    Args:\n",
    "        df (pandas.DataFrame): DataFrame containing chess games\n",
    "        n (int): number of openings to display\n",
    "    \"\"\"\n",
    "    time_controls = df[\"time_control\"].unique()\n",
    "\n",
    "    def plot_for_selected_time_control(selected_time_control):\n",
    "        filtered_df = df[df[\"time_control\"] == selected_time_control]\n",
    "        openings_results = (\n",
    "            filtered_df.groupby([\"openings\", \"game_result\"])\n",
    "            .size()\n",
    "            .unstack(fill_value=0)\n",
    "            .sort_values(by=\"Won\", ascending=False)\n",
    "        )\n",
    "        ax = sns.heatmap(openings_results[:n], annot=True, cmap='jet')\n",
    "        cbar = ax.collections[0].colorbar\n",
    "        cbar.set_ticks([int(tick) for tick in cbar.get_ticks()])\n",
    "        ax.set_title(f\"Top {n} Openings Played By Result For {selected_time_control.title()} Time Control\")\n",
    "        plt.show()\n",
    "\n",
    "    widgets.interact(plot_for_selected_time_control, selected_time_control=widgets.Dropdown(options=time_controls, description='Time Control:'))"
   ]
  },
  {
   "cell_type": "code",
   "execution_count": 32,
   "metadata": {
    "slideshow": {
     "slide_type": "subslide"
    }
   },
   "outputs": [
    {
     "data": {
      "application/vnd.jupyter.widget-view+json": {
       "model_id": "d25d1b81bada42cb9623d91b8efe1b27",
       "version_major": 2,
       "version_minor": 0
      },
      "text/plain": [
       "interactive(children=(Dropdown(description='Time Control:', options=('blitz', 'bullet', 'daily', 'rapid'), val…"
      ]
     },
     "metadata": {},
     "output_type": "display_data"
    }
   ],
   "source": [
    "plot_openings_matrix(chess_games)"
   ]
  },
  {
   "cell_type": "code",
   "execution_count": 33,
   "metadata": {
    "slideshow": {
     "slide_type": "slide"
    }
   },
   "outputs": [],
   "source": [
    "def display_top_openings_boards(df, top_n = 10):\n",
    "    # Get unique time controls\n",
    "    time_controls = df[\"time_control\"].unique()\n",
    "\n",
    "    def update_time_control(selected_time_control):\n",
    "        # Get the top N most played openings for the selected time control\n",
    "        top_openings = (\n",
    "            df[df[\"time_control\"] == selected_time_control]\n",
    "            .groupby(\"openings\")\n",
    "            .size()\n",
    "            .sort_values(ascending=False)\n",
    "            .head(top_n)\n",
    "            .index\n",
    "        )\n",
    "\n",
    "        def show_board(opening):\n",
    "            # Select the first game with the selected opening and time control\n",
    "            game_row = df[(df[\"time_control\"] == selected_time_control) & (df[\"openings\"] == opening)].iloc[0]\n",
    "            pgn_str = game_row[\"pgn\"]\n",
    "            pgn_io = chess.pgn.read_game(io.StringIO(pgn_str))\n",
    "            board = pgn_io.board()\n",
    "            # Attempt to estimate how many moves to play to reach the opening position\n",
    "            opening_moves = opening.split('-')\n",
    "            last_move = None\n",
    "            for part in reversed(opening_moves):\n",
    "                if any(char.isdigit() for char in part):\n",
    "                    last_move = part\n",
    "                    break\n",
    "            if last_move is not None:\n",
    "                move_number = int(re.match(r'(\\d+)', last_move).group(1))\n",
    "                ply = move_number * 2 if '...' in last_move else move_number * 2 - 1\n",
    "            else:\n",
    "                ply = 4  # Default to 4 plies if move number not found\n",
    "            for i, move in enumerate(pgn_io.mainline_moves()):\n",
    "                if i >= ply:\n",
    "                    break\n",
    "                board.push(move)\n",
    "            print(f\"Opening: {opening}\")\n",
    "            display(SVG(chess.svg.board(board=board)))\n",
    "\n",
    "        dropdown = widgets.Dropdown(options=top_openings, description='Opening:')\n",
    "        widgets.interact(show_board, opening=dropdown)\n",
    "\n",
    "    widgets.interact(update_time_control, selected_time_control=widgets.Dropdown(options=time_controls, description='Time Control:'))"
   ]
  },
  {
   "cell_type": "code",
   "execution_count": 34,
   "metadata": {
    "slideshow": {
     "slide_type": "subslide"
    }
   },
   "outputs": [
    {
     "data": {
      "application/vnd.jupyter.widget-view+json": {
       "model_id": "0623b635a7e34ee2871f34f0c0f0c9bd",
       "version_major": 2,
       "version_minor": 0
      },
      "text/plain": [
       "interactive(children=(Dropdown(description='Time Control:', options=('blitz', 'bullet', 'daily', 'rapid'), val…"
      ]
     },
     "metadata": {},
     "output_type": "display_data"
    }
   ],
   "source": [
    "display_top_openings_boards(chess_games)"
   ]
  }
 ],
 "metadata": {
  "kernelspec": {
   "display_name": "chess",
   "language": "python",
   "name": "python3"
  },
  "language_info": {
   "codemirror_mode": {
    "name": "ipython",
    "version": 3
   },
   "file_extension": ".py",
   "mimetype": "text/x-python",
   "name": "python",
   "nbconvert_exporter": "python",
   "pygments_lexer": "ipython3",
   "version": "3.10.14"
  }
 },
 "nbformat": 4,
 "nbformat_minor": 2
}
